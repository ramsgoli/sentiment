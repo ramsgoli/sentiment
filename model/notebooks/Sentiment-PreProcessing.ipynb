{
 "cells": [
  {
   "cell_type": "markdown",
   "metadata": {},
   "source": [
    "# Pre Processing\n",
    "* The objective here is to take all the data in train and test folders, and to combine them into two csv files `train.csv` and `test.csv`\n",
    "* Each csv will have two columns, `text` and `label`"
   ]
  },
  {
   "cell_type": "code",
   "execution_count": 2,
   "metadata": {},
   "outputs": [],
   "source": [
    "import os\n",
    "import csv"
   ]
  },
  {
   "cell_type": "code",
   "execution_count": 10,
   "metadata": {},
   "outputs": [],
   "source": [
    "base_dir = 'aclImdb/'\n",
    "train_dir = 'train/'\n",
    "test_dir = 'test/'\n",
    "pos_dir = 'pos/'\n",
    "neg_dir = 'neg/'\n",
    "train_csv = 'data/train.csv'\n",
    "test_csv = 'data/test.csv'"
   ]
  },
  {
   "cell_type": "code",
   "execution_count": 15,
   "metadata": {},
   "outputs": [],
   "source": [
    "os.mkdir('data')\n",
    "\n",
    "for data_dir, output_file in [[train_dir, train_csv], [test_dir, test_csv]]:\n",
    "    with open(output_file, mode='w+', newline='') as output_csv:\n",
    "        csv_writer = csv.writer(output_csv)\n",
    "\n",
    "        pos_file_dir = os.path.join(base_dir, data_dir, pos_dir)\n",
    "        with os.scandir(pos_file_dir) as entries:\n",
    "            for entry in entries:\n",
    "                pos_file_name = os.path.join(pos_file_dir, entry.name)\n",
    "\n",
    "                with open(pos_file_name, mode=\"r\") as pos_file:\n",
    "                    contents = pos_file.read()\n",
    "                    csv_writer.writerow([contents, 1])\n",
    "\n",
    "        neg_file_dir = os.path.join(base_dir, data_dir, neg_dir)\n",
    "        with os.scandir(neg_file_dir) as entries:\n",
    "            for entry in entries:\n",
    "                neg_file_name = os.path.join(neg_file_dir, entry.name)\n",
    "\n",
    "                with open(neg_file_name, mode=\"r\") as neg_file:\n",
    "                    contents = neg_file.read()\n",
    "                    csv_writer.writerow([contents, 0])\n",
    "        "
   ]
  },
  {
   "cell_type": "code",
   "execution_count": null,
   "metadata": {},
   "outputs": [],
   "source": []
  }
 ],
 "metadata": {
  "kernelspec": {
   "display_name": "Python 3",
   "language": "python",
   "name": "python3"
  },
  "language_info": {
   "codemirror_mode": {
    "name": "ipython",
    "version": 3
   },
   "file_extension": ".py",
   "mimetype": "text/x-python",
   "name": "python",
   "nbconvert_exporter": "python",
   "pygments_lexer": "ipython3",
   "version": "3.6.8"
  }
 },
 "nbformat": 4,
 "nbformat_minor": 4
}
